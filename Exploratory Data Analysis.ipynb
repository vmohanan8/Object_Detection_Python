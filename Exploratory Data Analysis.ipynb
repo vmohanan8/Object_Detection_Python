{
 "cells": [
  {
   "cell_type": "markdown",
   "metadata": {},
   "source": [
    "# Explore the dataset\n",
    "\n",
    "\n",
    "In this notebook, we will perform an EDA (Exploratory Data Analysis) on the processed Waymo dataset (data in the `processed` folder). In the first part, you will create a function to display "
   ]
  },
  {
   "cell_type": "code",
   "execution_count": null,
   "metadata": {},
   "outputs": [],
   "source": [
    "from utils import get_dataset"
   ]
  },
  {
   "cell_type": "code",
   "execution_count": null,
   "metadata": {},
   "outputs": [],
   "source": [
    "dataset = get_dataset(\"PROCESSED TF RECORD PATH\")"
   ]
  },
  {
   "cell_type": "markdown",
   "metadata": {},
   "source": [
    "## Write a function to display an image and the bounding boxes\n",
    "\n",
    "Implement the `display_instances` function below. This function takes a batch as an input and display an image with its corresponding bounding boxes. The only requirement is that the classes should be color coded (eg, vehicles in red, pedestrians in blue, cyclist in green)."
   ]
  },
  {
   "cell_type": "code",
   "execution_count": null,
   "metadata": {},
   "outputs": [],
   "source": [
    "def display_instances(batch):\n",
    "    \"\"\"\n",
    "    This function takes a batch from the dataset and display the image with \n",
    "    the associated bounding boxes.\n",
    "    \"\"\"\n",
    "    import matplotlib.pyplot as plt \n",
    "    import matplotlib.patches as patches \n",
    "\n",
    "    # Unpack each batch\n",
    "    image   = batch['image'].numpy()\n",
    "    bboxes  = batch['bboxes'].numpy()\n",
    "    classes = batch['classes'].numpy()\n",
    "\n",
    "    # Color Mapping \n",
    "    # 1: vehicle, 2: pedestrian, 3: Cyclist\n",
    "    class_colours = {1:'red', 2:'blue', 3: 'green'}\n",
    "\n",
    "    fig,ax = plt.subplots(1)\n",
    "    ax.imshow(image)\n",
    "\n",
    "    for bbox, class_id in zip(bboxes, classes):\n",
    "        #bbox format :(ymin, xmin, ymax, xmax)\n",
    "        y_min, x_min, y_max, x_max = bbox\n",
    "        width   = x_max - x_min\n",
    "        height  = y_max - y_min\n",
    "        rect    = patches.Rectangle(\n",
    "            (x_min, y_min), width, height, \n",
    "            linewidth= 3, edgecolor= class_colours.get(class_id, 'yellow'),\n",
    "            facecolor='None')\n",
    "        ax.add_patch(rect)\n",
    "        ax.text(x_min, y_min, str(class_id), color=class_colours.get(class_id, 'yellow'),\n",
    "                fontsize=12, verticalalignment='top')\n",
    "    plt.axis('off')\n",
    "    plt.show()\n",
    "                \n",
    "\n",
    "\n",
    "    \n",
    "\n",
    "\n",
    "\n",
    "\n"
   ]
  },
  {
   "cell_type": "markdown",
   "metadata": {},
   "source": [
    "## Display 10 images \n",
    "\n",
    "Using the dataset created in the second cell and the function you just coded, display 10 random images with the associated bounding boxes. You can use the methods `take` and `shuffle` on the dataset."
   ]
  },
  {
   "cell_type": "code",
   "execution_count": null,
   "metadata": {},
   "outputs": [],
   "source": [
    "## STUDENT SOLUTION HERE"
   ]
  },
  {
   "cell_type": "markdown",
   "metadata": {},
   "source": [
    "## Additional EDA\n",
    "\n",
    "In this last part, you are free to perform any additional analysis of the dataset. What else would like to know about the data?\n",
    "For example, think about data distribution. So far, you have only looked at a single file..."
   ]
  },
  {
   "cell_type": "code",
   "execution_count": null,
   "metadata": {},
   "outputs": [],
   "source": []
  }
 ],
 "metadata": {
  "kernelspec": {
   "display_name": "Python 3",
   "language": "python",
   "name": "python3"
  },
  "language_info": {
   "codemirror_mode": {
    "name": "ipython",
    "version": 3
   },
   "file_extension": ".py",
   "mimetype": "text/x-python",
   "name": "python",
   "nbconvert_exporter": "python",
   "pygments_lexer": "ipython3",
   "version": "3.6.9"
  }
 },
 "nbformat": 4,
 "nbformat_minor": 4
}
